{
 "cells": [
  {
   "cell_type": "code",
   "execution_count": 1,
   "metadata": {},
   "outputs": [],
   "source": [
    "import sys, os, inspect\n",
    "\n",
    "sys.path.append('../lib/')\n",
    "#sys.path.append('../../../SLV_lib/')\n",
    "sys.path.append('../sim_lib/')\n",
    "\n",
    "def ospath(paths):\n",
    "    if ('win32' in sys.platform):\n",
    "        if type(paths)==list or type(paths)==tuple:\n",
    "            paths = [fn.replace('/c/','c:\\\\').replace('/', '\\\\') for fn in paths]\n",
    "        else:\n",
    "            paths = paths.replace('/c/','c:\\\\').replace('/', '\\\\')\n",
    "        #print(mltd_paths)\n",
    "    return paths\n",
    "\n",
    "import numpy as np\n",
    "\n",
    "import logging\n",
    "logger = logging.getLogger('stochastic_ir')\n",
    "hdlr = logging.FileHandler('./stochastic_ir.log')\n",
    "formatter = logging.Formatter('%(asctime)s %(levelname)s %(message)s')\n",
    "hdlr.setFormatter(formatter)\n",
    "logger.addHandler(hdlr) \n",
    "logger.setLevel(logging.INFO)\n",
    "\n",
    "from  matplotlib import pyplot as plt\n",
    "from mpl_toolkits.mplot3d import Axes3D\n",
    "from matplotlib import cm\n",
    "from matplotlib.ticker import LinearLocator, FormatStrFormatter\n",
    "\n",
    "import datetime\n",
    "import copy\n",
    "import pickle\n",
    "\n",
    "from itertools import compress\n",
    "import multiprocessing as mp\n",
    "import ctypes as c\n",
    "import gc\n",
    "import importlib\n",
    "%matplotlib inline"
   ]
  },
  {
   "cell_type": "code",
   "execution_count": 2,
   "metadata": {},
   "outputs": [],
   "source": [
    "from scipy.stats import norm\n",
    "import scipy.optimize as opt\n",
    "import scipy.integrate as integrate\n",
    "from scipy.integrate import simps\n",
    "from scipy.integrate import cumtrapz\n",
    "import scipy.interpolate"
   ]
  },
  {
   "cell_type": "code",
   "execution_count": 3,
   "metadata": {},
   "outputs": [],
   "source": [
    "import json\n",
    "import calibrator\n",
    "import interpolator\n",
    "import surfaces"
   ]
  },
  {
   "cell_type": "markdown",
   "metadata": {},
   "source": [
    "# Read Implied Vol, correlations, EUR and USD DF curves"
   ]
  },
  {
   "cell_type": "code",
   "execution_count": 4,
   "metadata": {},
   "outputs": [],
   "source": [
    "MARKETDATA = '../marketdata_JSON_asof_04_30_2020/'\n",
    "with open(MARKETDATA+'EUR.json', 'r') as f:\n",
    "    eurdata = json.load(f)\n",
    "with open(MARKETDATA+'USD.json', 'r') as f:\n",
    "    usddata = json.load(f)\n",
    "with open(MARKETDATA+'EURUSD.json', 'r') as f:\n",
    "    eurusddata = json.load(f)\n",
    "with open(MARKETDATA+'correlations.json', 'r') as f:\n",
    "    correlations = json.load(f)"
   ]
  },
  {
   "cell_type": "code",
   "execution_count": 5,
   "metadata": {},
   "outputs": [],
   "source": [
    "rho_domestic_base = correlations['USD_EUR']\n",
    "rho_base_fx = correlations['EUR_EURUSD']\n",
    "rho_domestic_fx = correlations['USD_EURUSD']\n",
    "\n",
    "base_ta = eurdata['g1++']['meanrev']['times']\n",
    "base_a = eurdata['g1++']['meanrev']['values']\n",
    "base_tvol = eurdata['g1++']['vol']['times']\n",
    "base_vol = eurdata['g1++']['vol']['values']\n",
    "base_x0 = eurdata['g1++']['x0']\n",
    "base_shifttimes = eurdata['g1++']['shift']['times']\n",
    "base_shiftvalues = eurdata['g1++']['shift']['values']\n",
    "\n",
    "domestic_ta = usddata['g1++']['meanrev']['times']\n",
    "domestic_a = usddata['g1++']['meanrev']['values']\n",
    "domestic_tvol = usddata['g1++']['vol']['times']\n",
    "domestic_vol = usddata['g1++']['vol']['values']\n",
    "domestic_x0 = usddata['g1++']['x0']\n",
    "domestic_shifttimes = usddata['g1++']['shift']['times']\n",
    "domestic_shiftvalues = usddata['g1++']['shift']['values']\n",
    "\n",
    "fxvoldata = eurusddata['impliedvol']\n",
    "spot_FX = eurusddata['spot']\n",
    "\n",
    "base_dfcurve = interpolator.InterpolatedCurve(eurdata['discount']['times'], \n",
    "                                              eurdata['discount']['values'])\n",
    "dfcurve = interpolator.InterpolatedCurve(usddata['discount']['times'], \n",
    "                                         usddata['discount']['values'])"
   ]
  },
  {
   "cell_type": "code",
   "execution_count": 6,
   "metadata": {},
   "outputs": [],
   "source": [
    "fxvoldata = eurusddata['impliedvol']\n",
    "spot_FX = eurusddata['spot']"
   ]
  },
  {
   "cell_type": "code",
   "execution_count": 7,
   "metadata": {},
   "outputs": [],
   "source": [
    "base_dfcurve = interpolator.InterpolatedCurve(eurdata['discount']['times'], \n",
    "                                              eurdata['discount']['values'])\n",
    "dfcurve = interpolator.InterpolatedCurve(usddata['discount']['times'], \n",
    "                                         usddata['discount']['values'])"
   ]
  },
  {
   "cell_type": "code",
   "execution_count": 8,
   "metadata": {},
   "outputs": [
    {
     "data": {
      "text/plain": [
       "{'USD_EUR': 0.161,\n",
       " 'USD_EURUSD': 0.166,\n",
       " 'EUR_EURUSD': 0.551,\n",
       " 'USD_EURUSDstochvar': -0.2,\n",
       " 'EUR_EURUSDstochvar': -0.2,\n",
       " 'EURUSD_EURUSDstochvar': -0.3620005301106583}"
      ]
     },
     "execution_count": 8,
     "metadata": {},
     "output_type": "execute_result"
    }
   ],
   "source": [
    "correlations"
   ]
  },
  {
   "cell_type": "code",
   "execution_count": 9,
   "metadata": {},
   "outputs": [],
   "source": [
    "with open(MARKETDATA+'EURUSD_Heston.json', 'r') as f:\n",
    "    hestondata = json.load(f)\n",
    "    \n",
    "heston_kappa_dict = {'times':hestondata['kappa']['times'], \n",
    "                     'values':hestondata['kappa']['values']}\n",
    "heston_volofvar_dict = {'times':hestondata['volofvar']['times'], \n",
    "                        'values':hestondata['volofvar']['values']}\n",
    "heston_theta_dict = {'times':hestondata['theta']['times'], \n",
    "                     'values':hestondata['theta']['values']}\n",
    "heston_initialvar = hestondata['initialvar']"
   ]
  },
  {
   "cell_type": "code",
   "execution_count": 10,
   "metadata": {},
   "outputs": [],
   "source": [
    "rho_fx_v = hestondata['rho'] #correlations['EURUSD_EURUSDstochvar']\n",
    "rho_domestic_v = correlations['USD_EURUSDstochvar']\n",
    "rho_base_v = correlations['EUR_EURUSDstochvar']"
   ]
  },
  {
   "cell_type": "markdown",
   "metadata": {},
   "source": [
    "# Interpolate Implied Vol"
   ]
  },
  {
   "cell_type": "code",
   "execution_count": 11,
   "metadata": {},
   "outputs": [],
   "source": [
    "import fxivolinterpolator as fxvol"
   ]
  },
  {
   "cell_type": "code",
   "execution_count": 12,
   "metadata": {},
   "outputs": [],
   "source": [
    "fxvolsurf = fxvol.FXIVolInterpolator(eurusddata['impliedvol'], \n",
    "                                     eurusddata['spot'], dfcurve, base_dfcurve)"
   ]
  },
  {
   "cell_type": "markdown",
   "metadata": {},
   "source": [
    "# Setup Calibration local vol spots and times"
   ]
  },
  {
   "cell_type": "code",
   "execution_count": 13,
   "metadata": {},
   "outputs": [],
   "source": [
    "import StochasticSim_Multiprocessing as simulator"
   ]
  },
  {
   "cell_type": "code",
   "execution_count": 14,
   "metadata": {},
   "outputs": [],
   "source": [
    "if 'locvol_sim' in locals() or 'locvol_sim' in globals():\n",
    "    locvol_sim.delete_all()\n",
    "    del(locvol_sim)\n",
    "    print('Deleted lvolsim')"
   ]
  },
  {
   "cell_type": "code",
   "execution_count": 15,
   "metadata": {},
   "outputs": [],
   "source": [
    "base_shortratecrv = interpolator.constructShortRateCurve(base_dfcurve)\n",
    "domestic_shortratecrv = interpolator.constructShortRateCurve(dfcurve)"
   ]
  },
  {
   "cell_type": "code",
   "execution_count": 16,
   "metadata": {},
   "outputs": [
    {
     "name": "stdout",
     "output_type": "stream",
     "text": [
      "Allocating shmem ...HESTON UT \n",
      "Allocating shmem ...HESTON UT \n",
      "Allocating shmem ...HESTON UT \n",
      "Allocating shmem ...HESTON UT \n",
      "Allocating shmem ...HESTON UT \n",
      "Allocating shmem ...XS RD RB \n",
      "Allocating shmem ...XS RD RB \n",
      "Allocating shmem ...XS RD RB \n",
      "Allocating shmem ...XS RD RB \n",
      "Allocating shmem ...XS RD RB \n",
      "Initializing pool for ... <class 'StochasticSim_Multiprocessing.StochasticLocalVolSimulation'>\n"
     ]
    }
   ],
   "source": [
    "nr_mcruns = 100000 ### number of calibration runs\n",
    "NRSUBSIM = 5  ### number of multiprocessing sub-processes \n",
    "LVOL_NUMMETHOD = 'ForwardEuler'\n",
    "SHORTRATE_NUMMETHOD = 'ForwardEuler'\n",
    "ANTITHETIC = True #False #\n",
    "\n",
    "locvol_sim = simulator.StochasticLocalVolSimulation(\n",
    "                domestic_shortratecrv.times, domestic_shortratecrv.values, \n",
    "                base_shortratecrv.times, base_shortratecrv.values, spot_FX,\n",
    "                heston_initialvar, heston_volofvar_dict, \n",
    "                heston_kappa_dict, heston_theta_dict,\n",
    "                domestic_ta, domestic_a, domestic_tvol, domestic_vol, domestic_x0,\n",
    "                base_ta, base_a, base_tvol, base_vol, base_x0,\n",
    "                rho_domestic_base, rho_domestic_fx, rho_base_fx,\n",
    "                rho_fx_v, rho_domestic_v, rho_base_v,\n",
    "                nr_mcruns, LVOL_NUMMETHOD, SHORTRATE_NUMMETHOD,\n",
    "                antitheticpaths=ANTITHETIC,\n",
    "                in_forward_measure=True,\n",
    "                nrsubsim=NRSUBSIM,\n",
    "                observation_names=['FXrate', 'FXStochVariance'], \n",
    "                observe_at_given_times=True,\n",
    "                domestic_currency_name='USD',\n",
    "                base_currency_name='EUR',\n",
    "                fx_name='EURUSD',\n",
    "                )"
   ]
  },
  {
   "cell_type": "markdown",
   "metadata": {},
   "source": [
    "# Read Current Localvol"
   ]
  },
  {
   "cell_type": "code",
   "execution_count": 17,
   "metadata": {},
   "outputs": [],
   "source": [
    "def get_unique_from_sorted_array(arrvals, tolerance=1e-6):\n",
    "    #tolerance = 1e-6\n",
    "    idxmask = (arrvals[1:] - arrvals[:-1])<tolerance\n",
    "    return arrvals[:-1][~idxmask]\n",
    "\n",
    "IS_LOCVOL_RECTANGULAR=False\n",
    "IMPLIEDVOL_NRY_FX = 100\n",
    "\n",
    "LOCALVOL_CAP = 1.0\n",
    "\n",
    "IMPLIEDVOL_TIMES_FX = np.array(sorted(fxvolsurf.times + [0.025] + list(np.arange(0.05, 1.00, 0.05))))\n",
    "IMPLIEDVOL_TIMES_FX = get_unique_from_sorted_array(IMPLIEDVOL_TIMES_FX)\n",
    "\n",
    "LOCALVOL_NRSPOTS_FX = 100\n",
    "LOCALVOL_TIMES_FX = [0.025] + list(np.arange(0.05, 1.00, 0.05))  #[0.02, 0.03, 0.04] + list(np.arange(0.05, 1.00, 0.05)) \n"
   ]
  },
  {
   "cell_type": "code",
   "execution_count": 18,
   "metadata": {},
   "outputs": [
    {
     "name": "stdout",
     "output_type": "stream",
     "text": [
      "Creating implied total variance interpolator\n",
      "Created implied total variance interpolator\n"
     ]
    }
   ],
   "source": [
    "#IMPLIEDVOL_NRY_FX = 100\n",
    "#IMPLIEDVOL_TIMES_FX = [0.025] + list(np.arange(0.05, 1.00, 0.05))\n",
    "surface = surfaces.generate_tiv_surface_nonuniform(\n",
    "            fxvolsurf, IMPLIEDVOL_NRY_FX, IMPLIEDVOL_TIMES_FX, #gxldata.fxvolsurface\n",
    "            dfcurve, base_dfcurve, spot_FX,\n",
    "            localvol_cap=LOCALVOL_CAP, width_nr_stdev=3.6)"
   ]
  },
  {
   "cell_type": "code",
   "execution_count": 19,
   "metadata": {},
   "outputs": [],
   "source": [
    "lvol_file_nmc=nr_mcruns\n",
    "\n",
    "L_FILENAME = 'leverage_sampleFULL_%d.pkl' % (lvol_file_nmc)\n",
    "OUTPUTDIR = './output_SLV_2DIR/'"
   ]
  },
  {
   "cell_type": "code",
   "execution_count": 20,
   "metadata": {},
   "outputs": [],
   "source": [
    "VAR_METHOD = 'binning' #'curve_fit' #\n",
    "locvol_cal = calibrator.StochasticLocalVolDeterministicIRCalibration(\n",
    "                surface, locvol_sim,\n",
    "                var_method=VAR_METHOD,\n",
    "                filename=ospath(OUTPUTDIR + L_FILENAME))"
   ]
  },
  {
   "cell_type": "code",
   "execution_count": 21,
   "metadata": {},
   "outputs": [],
   "source": [
    "#LOCALVOL_NRSPOTS_FX = 100\n",
    "#LOCALVOL_TIMES_FX = [0.025] + list(np.arange(0.05, 1.00, 0.05))\n",
    "#IS_LOCVOL_RECTANGULAR=False\n",
    "strike_grid = surfaces.generate_2d_strike_grid(surface, \n",
    "                                               LOCALVOL_NRSPOTS_FX, \n",
    "                                               LOCALVOL_TIMES_FX, \n",
    "                                               IS_LOCVOL_RECTANGULAR)"
   ]
  },
  {
   "cell_type": "code",
   "execution_count": 22,
   "metadata": {},
   "outputs": [
    {
     "name": "stdout",
     "output_type": "stream",
     "text": [
      "Processing time: 0.025000\n",
      "ProcessID:0, n_trials:20000, maturity:0.025, timesteps:6\n",
      "ProcessID:1, n_trials:20000, maturity:0.025, timesteps:6\n",
      "ProcessID:2, n_trials:20000, maturity:0.025, timesteps:6\n",
      "ProcessID:3, n_trials:20000, maturity:0.025, timesteps:6\n",
      "ProcessID:4, n_trials:20000, maturity:0.025, timesteps:6\n",
      "Collecting results for  ['FXrate', 'FXStochVariance']\n",
      "Written: .\\output_SLV_2DIR\\leverage_sampleFULL_100000.pkl\n",
      "Processing time: 0.050000\n",
      "ProcessID:0, n_trials:20000, maturity:0.050, timesteps:12\n",
      "ProcessID:1, n_trials:20000, maturity:0.050, timesteps:12\n",
      "ProcessID:2, n_trials:20000, maturity:0.050, timesteps:12\n",
      "ProcessID:3, n_trials:20000, maturity:0.050, timesteps:12\n",
      "ProcessID:4, n_trials:20000, maturity:0.050, timesteps:12\n",
      "Collecting results for  ['FXrate', 'FXStochVariance']\n",
      "Written: .\\output_SLV_2DIR\\leverage_sampleFULL_100000.pkl\n",
      "Processing time: 0.100000\n",
      "ProcessID:0, n_trials:20000, maturity:0.100, timesteps:25\n",
      "ProcessID:1, n_trials:20000, maturity:0.100, timesteps:25\n",
      "ProcessID:2, n_trials:20000, maturity:0.100, timesteps:25\n",
      "ProcessID:3, n_trials:20000, maturity:0.100, timesteps:25\n",
      "ProcessID:4, n_trials:20000, maturity:0.100, timesteps:25\n",
      "Collecting results for  ['FXrate', 'FXStochVariance']\n",
      "Written: .\\output_SLV_2DIR\\leverage_sampleFULL_100000.pkl\n",
      "Processing time: 0.150000\n",
      "ProcessID:0, n_trials:20000, maturity:0.150, timesteps:37\n",
      "ProcessID:1, n_trials:20000, maturity:0.150, timesteps:37\n",
      "ProcessID:2, n_trials:20000, maturity:0.150, timesteps:37\n",
      "ProcessID:3, n_trials:20000, maturity:0.150, timesteps:37\n",
      "ProcessID:4, n_trials:20000, maturity:0.150, timesteps:37\n",
      "Collecting results for  ['FXrate', 'FXStochVariance']\n",
      "Written: .\\output_SLV_2DIR\\leverage_sampleFULL_100000.pkl\n",
      "Processing time: 0.200000\n",
      "ProcessID:0, n_trials:20000, maturity:0.200, timesteps:50\n",
      "ProcessID:1, n_trials:20000, maturity:0.200, timesteps:50\n",
      "ProcessID:2, n_trials:20000, maturity:0.200, timesteps:50\n",
      "ProcessID:3, n_trials:20000, maturity:0.200, timesteps:50\n",
      "ProcessID:4, n_trials:20000, maturity:0.200, timesteps:50\n",
      "Collecting results for  ['FXrate', 'FXStochVariance']\n",
      "Written: .\\output_SLV_2DIR\\leverage_sampleFULL_100000.pkl\n",
      "Processing time: 0.250000\n",
      "ProcessID:0, n_trials:20000, maturity:0.250, timesteps:62\n",
      "ProcessID:1, n_trials:20000, maturity:0.250, timesteps:62\n",
      "ProcessID:2, n_trials:20000, maturity:0.250, timesteps:62\n",
      "ProcessID:3, n_trials:20000, maturity:0.250, timesteps:62\n",
      "ProcessID:4, n_trials:20000, maturity:0.250, timesteps:62\n",
      "Collecting results for  ['FXrate', 'FXStochVariance']\n",
      "Written: .\\output_SLV_2DIR\\leverage_sampleFULL_100000.pkl\n",
      "Processing time: 0.300000\n",
      "ProcessID:0, n_trials:20000, maturity:0.300, timesteps:75\n",
      "ProcessID:1, n_trials:20000, maturity:0.300, timesteps:75\n",
      "ProcessID:2, n_trials:20000, maturity:0.300, timesteps:75\n",
      "ProcessID:3, n_trials:20000, maturity:0.300, timesteps:75\n",
      "ProcessID:4, n_trials:20000, maturity:0.300, timesteps:75\n",
      "Collecting results for  ['FXrate', 'FXStochVariance']\n",
      "Written: .\\output_SLV_2DIR\\leverage_sampleFULL_100000.pkl\n",
      "Processing time: 0.350000\n",
      "ProcessID:0, n_trials:20000, maturity:0.350, timesteps:87\n",
      "ProcessID:1, n_trials:20000, maturity:0.350, timesteps:87\n",
      "ProcessID:2, n_trials:20000, maturity:0.350, timesteps:87\n",
      "ProcessID:3, n_trials:20000, maturity:0.350, timesteps:87\n",
      "ProcessID:4, n_trials:20000, maturity:0.350, timesteps:87\n",
      "Collecting results for  ['FXrate', 'FXStochVariance']\n",
      "Written: .\\output_SLV_2DIR\\leverage_sampleFULL_100000.pkl\n",
      "Processing time: 0.400000\n",
      "ProcessID:0, n_trials:20000, maturity:0.400, timesteps:100\n",
      "ProcessID:1, n_trials:20000, maturity:0.400, timesteps:100\n",
      "ProcessID:2, n_trials:20000, maturity:0.400, timesteps:100\n",
      "ProcessID:3, n_trials:20000, maturity:0.400, timesteps:100\n",
      "ProcessID:4, n_trials:20000, maturity:0.400, timesteps:100\n",
      "Collecting results for  ['FXrate', 'FXStochVariance']\n",
      "Written: .\\output_SLV_2DIR\\leverage_sampleFULL_100000.pkl\n",
      "Processing time: 0.450000\n",
      "ProcessID:0, n_trials:20000, maturity:0.450, timesteps:112\n",
      "ProcessID:1, n_trials:20000, maturity:0.450, timesteps:112\n",
      "ProcessID:2, n_trials:20000, maturity:0.450, timesteps:112\n",
      "ProcessID:3, n_trials:20000, maturity:0.450, timesteps:112\n",
      "ProcessID:4, n_trials:20000, maturity:0.450, timesteps:112\n",
      "Collecting results for  ['FXrate', 'FXStochVariance']\n",
      "Written: .\\output_SLV_2DIR\\leverage_sampleFULL_100000.pkl\n",
      "Processing time: 0.500000\n",
      "ProcessID:0, n_trials:20000, maturity:0.500, timesteps:125\n",
      "ProcessID:1, n_trials:20000, maturity:0.500, timesteps:125\n",
      "ProcessID:2, n_trials:20000, maturity:0.500, timesteps:125\n",
      "ProcessID:3, n_trials:20000, maturity:0.500, timesteps:125\n",
      "ProcessID:4, n_trials:20000, maturity:0.500, timesteps:125\n",
      "Collecting results for  ['FXrate', 'FXStochVariance']\n",
      "Written: .\\output_SLV_2DIR\\leverage_sampleFULL_100000.pkl\n",
      "Processing time: 0.550000\n",
      "ProcessID:0, n_trials:20000, maturity:0.550, timesteps:137\n",
      "ProcessID:1, n_trials:20000, maturity:0.550, timesteps:137\n",
      "ProcessID:2, n_trials:20000, maturity:0.550, timesteps:137\n",
      "ProcessID:3, n_trials:20000, maturity:0.550, timesteps:137\n",
      "ProcessID:4, n_trials:20000, maturity:0.550, timesteps:137\n",
      "Collecting results for  ['FXrate', 'FXStochVariance']\n",
      "Written: .\\output_SLV_2DIR\\leverage_sampleFULL_100000.pkl\n",
      "Processing time: 0.600000\n",
      "ProcessID:0, n_trials:20000, maturity:0.600, timesteps:150\n",
      "ProcessID:1, n_trials:20000, maturity:0.600, timesteps:150\n",
      "ProcessID:2, n_trials:20000, maturity:0.600, timesteps:150\n",
      "ProcessID:3, n_trials:20000, maturity:0.600, timesteps:150\n",
      "ProcessID:4, n_trials:20000, maturity:0.600, timesteps:150\n",
      "Collecting results for  ['FXrate', 'FXStochVariance']\n",
      "Written: .\\output_SLV_2DIR\\leverage_sampleFULL_100000.pkl\n",
      "Processing time: 0.650000\n",
      "ProcessID:0, n_trials:20000, maturity:0.650, timesteps:162\n",
      "ProcessID:1, n_trials:20000, maturity:0.650, timesteps:162\n",
      "ProcessID:2, n_trials:20000, maturity:0.650, timesteps:162\n",
      "ProcessID:3, n_trials:20000, maturity:0.650, timesteps:162\n",
      "ProcessID:4, n_trials:20000, maturity:0.650, timesteps:162\n",
      "Collecting results for  ['FXrate', 'FXStochVariance']\n",
      "Written: .\\output_SLV_2DIR\\leverage_sampleFULL_100000.pkl\n",
      "Processing time: 0.700000\n",
      "ProcessID:0, n_trials:20000, maturity:0.700, timesteps:175\n",
      "ProcessID:1, n_trials:20000, maturity:0.700, timesteps:175\n",
      "ProcessID:2, n_trials:20000, maturity:0.700, timesteps:175\n",
      "ProcessID:3, n_trials:20000, maturity:0.700, timesteps:175\n",
      "ProcessID:4, n_trials:20000, maturity:0.700, timesteps:175\n",
      "Collecting results for  ['FXrate', 'FXStochVariance']\n",
      "Written: .\\output_SLV_2DIR\\leverage_sampleFULL_100000.pkl\n",
      "Processing time: 0.750000\n",
      "ProcessID:0, n_trials:20000, maturity:0.750, timesteps:187\n",
      "ProcessID:1, n_trials:20000, maturity:0.750, timesteps:187\n",
      "ProcessID:2, n_trials:20000, maturity:0.750, timesteps:187\n",
      "ProcessID:3, n_trials:20000, maturity:0.750, timesteps:187\n",
      "ProcessID:4, n_trials:20000, maturity:0.750, timesteps:187\n",
      "Collecting results for  ['FXrate', 'FXStochVariance']\n",
      "Written: .\\output_SLV_2DIR\\leverage_sampleFULL_100000.pkl\n",
      "Processing time: 0.800000\n",
      "ProcessID:0, n_trials:20000, maturity:0.800, timesteps:200\n",
      "ProcessID:1, n_trials:20000, maturity:0.800, timesteps:200\n",
      "ProcessID:2, n_trials:20000, maturity:0.800, timesteps:200\n",
      "ProcessID:3, n_trials:20000, maturity:0.800, timesteps:200\n",
      "ProcessID:4, n_trials:20000, maturity:0.800, timesteps:200\n",
      "Collecting results for  ['FXrate', 'FXStochVariance']\n",
      "Written: .\\output_SLV_2DIR\\leverage_sampleFULL_100000.pkl\n",
      "Processing time: 0.850000\n",
      "ProcessID:0, n_trials:20000, maturity:0.850, timesteps:212\n",
      "ProcessID:1, n_trials:20000, maturity:0.850, timesteps:212\n",
      "ProcessID:2, n_trials:20000, maturity:0.850, timesteps:212\n",
      "ProcessID:3, n_trials:20000, maturity:0.850, timesteps:212\n",
      "ProcessID:4, n_trials:20000, maturity:0.850, timesteps:212\n",
      "Collecting results for  ['FXrate', 'FXStochVariance']\n",
      "Written: .\\output_SLV_2DIR\\leverage_sampleFULL_100000.pkl\n",
      "Processing time: 0.900000\n",
      "ProcessID:0, n_trials:20000, maturity:0.900, timesteps:225\n",
      "ProcessID:1, n_trials:20000, maturity:0.900, timesteps:225\n",
      "ProcessID:2, n_trials:20000, maturity:0.900, timesteps:225\n",
      "ProcessID:3, n_trials:20000, maturity:0.900, timesteps:225\n",
      "ProcessID:4, n_trials:20000, maturity:0.900, timesteps:225\n",
      "Collecting results for  ['FXrate', 'FXStochVariance']\n",
      "Written: .\\output_SLV_2DIR\\leverage_sampleFULL_100000.pkl\n",
      "Processing time: 0.950000\n"
     ]
    },
    {
     "name": "stdout",
     "output_type": "stream",
     "text": [
      "ProcessID:0, n_trials:20000, maturity:0.950, timesteps:237\n",
      "ProcessID:1, n_trials:20000, maturity:0.950, timesteps:237\n",
      "ProcessID:2, n_trials:20000, maturity:0.950, timesteps:237\n",
      "ProcessID:3, n_trials:20000, maturity:0.950, timesteps:237\n",
      "ProcessID:4, n_trials:20000, maturity:0.950, timesteps:237\n",
      "Collecting results for  ['FXrate', 'FXStochVariance']\n",
      "Written: .\\output_SLV_2DIR\\leverage_sampleFULL_100000.pkl\n"
     ]
    }
   ],
   "source": [
    "l_values = locvol_cal.calibrate_localvol(strike_grid, LOCALVOL_TIMES_FX)"
   ]
  },
  {
   "cell_type": "code",
   "execution_count": 23,
   "metadata": {},
   "outputs": [],
   "source": [
    "l_data = {}\n",
    "l_data['spots'] = strike_grid\n",
    "l_data['times'] = LOCALVOL_TIMES_FX\n",
    "l_data['surfacevalues'] = l_values[1:]"
   ]
  },
  {
   "cell_type": "code",
   "execution_count": 24,
   "metadata": {},
   "outputs": [],
   "source": [
    "FILENAME = 'leverage_data%d.pkl'%nr_mcruns\n",
    "\n",
    "with open(OUTPUTDIR+FILENAME, 'wb') as f:\n",
    "    pickle.dump(l_data, f)"
   ]
  },
  {
   "cell_type": "code",
   "execution_count": 25,
   "metadata": {},
   "outputs": [
    {
     "data": {
      "text/plain": [
       "(20, 20, 20)"
      ]
     },
     "execution_count": 25,
     "metadata": {},
     "output_type": "execute_result"
    }
   ],
   "source": [
    "len(l_data['spots']), len(l_data['times']), len(l_data['surfacevalues'])"
   ]
  },
  {
   "cell_type": "code",
   "execution_count": 26,
   "metadata": {},
   "outputs": [
    {
     "name": "stdout",
     "output_type": "stream",
     "text": [
      "(19, 100) (19, 100) (19, 100)\n"
     ]
    },
    {
     "data": {
      "text/plain": [
       "Text(0.5, 0.92, 'Local Vol surface')"
      ]
     },
     "execution_count": 26,
     "metadata": {},
     "output_type": "execute_result"
    },
    {
     "data": {
      "image/png": "[encoded data removed]",
      "text/plain": [
       "<Figure size 720x360 with 1 Axes>"
      ]
     },
     "metadata": {
      "needs_background": "light"
     },
     "output_type": "display_data"
    }
   ],
   "source": [
    "fig = plt.figure(figsize=(10,5))\n",
    "plotid=1\n",
    "num_slices=-1\n",
    "X_lvol = np.array(l_data['spots'][:num_slices]) \n",
    "Y_lvol = np.array([l_data['times'][:num_slices]]*X_lvol.shape[1]).T\n",
    "Z_lvol = np.array(l_data['surfacevalues'][:num_slices])\n",
    "print(X_lvol.shape, Y_lvol.shape, Z_lvol.shape)\n",
    "\n",
    "ax = fig.add_subplot(1, 1, plotid, projection='3d') \n",
    "surf = ax.plot_surface(X_lvol, Y_lvol, Z_lvol, cmap=cm.coolwarm, linewidth=1, antialiased=True)\n",
    "ax.set_zlabel('Vol', fontsize=15, rotation = 90)\n",
    "ax.set_ylabel('Time', fontsize=15, rotation = 45)\n",
    "ax.set_xlabel('Strike', fontsize=15, rotation = 0)\n",
    "#ax.set_zlim([-0.05, 0.13])\n",
    "ax.set_title('Local Vol surface')"
   ]
  },
  {
   "cell_type": "code",
   "execution_count": null,
   "metadata": {},
   "outputs": [],
   "source": []
  }
 ],
 "metadata": {
  "kernelspec": {
   "display_name": "Python 3",
   "language": "python",
   "name": "python3"
  },
  "language_info": {
   "codemirror_mode": {
    "name": "ipython",
    "version": 3
   },
   "file_extension": ".py",
   "mimetype": "text/x-python",
   "name": "python",
   "nbconvert_exporter": "python",
   "pygments_lexer": "ipython3",
   "version": "3.6.10"
  }
 },
 "nbformat": 4,
 "nbformat_minor": 4
}
